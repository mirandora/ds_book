{
 "cells": [
  {
   "cell_type": "markdown",
   "id": "b0e7bb33",
   "metadata": {},
   "source": [
    "#### 本notebookは『データサイエンスの無駄遣い』（[著]篠田裕之, 翔泳社, 2021）のサンプルコードとなります。"
   ]
  },
  {
   "cell_type": "markdown",
   "id": "c629ad85",
   "metadata": {},
   "source": [
    "## chapter9：全ての孤独に悟りとデータサイエンスで⽴ち向かう"
   ]
  },
  {
   "cell_type": "markdown",
   "id": "0628d23b",
   "metadata": {},
   "source": [
    "### 実行検証環境"
   ]
  },
  {
   "cell_type": "markdown",
   "id": "abe1dbf0",
   "metadata": {},
   "source": [
    "・Python (3.9.2)"
   ]
  },
  {
   "cell_type": "markdown",
   "id": "06d81eff",
   "metadata": {},
   "source": [
    "・matplotlib (3.4.1)<br>\n",
    "・seaborn (0.11.1)<br>\n",
    "・pandas (1.2.4)<br>\n",
    "・beautifulsoup4 (4.9.3)<br>\n",
    "・lightgbm (3.2.1)<br>"
   ]
  },
  {
   "cell_type": "markdown",
   "id": "cf23af39",
   "metadata": {},
   "source": [
    "### 事前準備"
   ]
  },
  {
   "cell_type": "markdown",
   "id": "3df68fc1",
   "metadata": {},
   "source": [
    "・本書の手順に応じて./gps_dataフォルダにfitbitで取得したgps移動データ(tcxファイル)を保存しておく。<br>\n",
    "・本書の手順に応じて./dataフォルダに各種センサ・ソースから取得した全データを統合したファイルを保存しておく。<br>"
   ]
  },
  {
   "cell_type": "markdown",
   "id": "dd2f9b8a",
   "metadata": {},
   "source": [
    "### パッケージのインポート"
   ]
  },
  {
   "cell_type": "code",
   "execution_count": 1,
   "id": "6eef2a2a",
   "metadata": {},
   "outputs": [],
   "source": [
    "%matplotlib inline\n",
    "import matplotlib.pyplot as plt\n",
    "import seaborn as sns\n",
    "plt.style.use('ggplot')"
   ]
  },
  {
   "cell_type": "code",
   "execution_count": 2,
   "id": "a36d56f2",
   "metadata": {},
   "outputs": [],
   "source": [
    "import bs4\n",
    "import pandas as pd\n",
    "import glob "
   ]
  },
  {
   "cell_type": "markdown",
   "id": "3afd9d6c",
   "metadata": {},
   "source": [
    "### データ取得・前処理"
   ]
  },
  {
   "cell_type": "markdown",
   "id": "6ee94bab",
   "metadata": {},
   "source": [
    "#### fitbitデータの前処理"
   ]
  },
  {
   "cell_type": "markdown",
   "id": "d081e50b",
   "metadata": {},
   "source": [
    "※GitHub(https://github.com/mirandora/ds_book/tree/main/9_1) に公開しているtcxデータはコード動作確認用の一部のデータとなります。"
   ]
  },
  {
   "cell_type": "code",
   "execution_count": 3,
   "id": "68a6ba89",
   "metadata": {},
   "outputs": [],
   "source": [
    "gps_files = sorted(glob.glob(\"./gps_data/*.tcx\"))"
   ]
  },
  {
   "cell_type": "code",
   "execution_count": 4,
   "id": "5a850246",
   "metadata": {},
   "outputs": [
    {
     "data": {
      "text/plain": [
       "['./gps_data/walk_01.tcx', './gps_data/walk_02.tcx', './gps_data/walk_03.tcx']"
      ]
     },
     "execution_count": 4,
     "metadata": {},
     "output_type": "execute_result"
    }
   ],
   "source": [
    "gps_files"
   ]
  },
  {
   "cell_type": "code",
   "execution_count": 5,
   "id": "a6492f87",
   "metadata": {},
   "outputs": [],
   "source": [
    "data_list = []\n",
    "\n",
    "for gps_file in gps_files:\n",
    "    tmp_soup = bs4.BeautifulSoup(open(gps_file), 'html.parser')\n",
    "    \n",
    "    time_list = tmp_soup.find_all('time')\n",
    "    lat_list = tmp_soup.find_all('latitudedegrees')\n",
    "    longi_list = tmp_soup.find_all('longitudedegrees')\n",
    "    alti_list = tmp_soup.find_all('altitudemeters')\n",
    "        \n",
    "    for i in range(len(time_list)):\n",
    "        data_list.append([time_list[i].text, lat_list[i].text, longi_list[i].text, alti_list[i].text])         "
   ]
  },
  {
   "cell_type": "code",
   "execution_count": 6,
   "id": "c4fa20a6",
   "metadata": {},
   "outputs": [],
   "source": [
    "data_df = pd.DataFrame(data_list)\n",
    "data_df.columns = [\"timestamp\",\"latitude\",\"longitude\",\"altitude\"]\n",
    "data_df.to_csv(\"./data/gps_all.csv\",index=False)"
   ]
  },
  {
   "cell_type": "code",
   "execution_count": 7,
   "id": "03e0db7d",
   "metadata": {},
   "outputs": [
    {
     "data": {
      "text/html": [
       "<div>\n",
       "<style scoped>\n",
       "    .dataframe tbody tr th:only-of-type {\n",
       "        vertical-align: middle;\n",
       "    }\n",
       "\n",
       "    .dataframe tbody tr th {\n",
       "        vertical-align: top;\n",
       "    }\n",
       "\n",
       "    .dataframe thead th {\n",
       "        text-align: right;\n",
       "    }\n",
       "</style>\n",
       "<table border=\"1\" class=\"dataframe\">\n",
       "  <thead>\n",
       "    <tr style=\"text-align: right;\">\n",
       "      <th></th>\n",
       "      <th>timestamp</th>\n",
       "      <th>latitude</th>\n",
       "      <th>longitude</th>\n",
       "      <th>altitude</th>\n",
       "    </tr>\n",
       "  </thead>\n",
       "  <tbody>\n",
       "    <tr>\n",
       "      <th>0</th>\n",
       "      <td>2017-05-01T09:05:50.000+09:00</td>\n",
       "      <td>34.15899896621704</td>\n",
       "      <td>134.50285136699677</td>\n",
       "      <td>24.43</td>\n",
       "    </tr>\n",
       "    <tr>\n",
       "      <th>1</th>\n",
       "      <td>2017-05-01T09:05:51.000+09:00</td>\n",
       "      <td>34.15899896621704</td>\n",
       "      <td>134.50285136699677</td>\n",
       "      <td>24.43</td>\n",
       "    </tr>\n",
       "    <tr>\n",
       "      <th>2</th>\n",
       "      <td>2017-05-01T09:05:52.000+09:00</td>\n",
       "      <td>34.15899896621704</td>\n",
       "      <td>134.50285136699677</td>\n",
       "      <td>22.23</td>\n",
       "    </tr>\n",
       "    <tr>\n",
       "      <th>3</th>\n",
       "      <td>2017-05-01T09:05:53.000+09:00</td>\n",
       "      <td>34.15899181365967</td>\n",
       "      <td>134.50283288955688</td>\n",
       "      <td>25.26</td>\n",
       "    </tr>\n",
       "    <tr>\n",
       "      <th>4</th>\n",
       "      <td>2017-05-01T09:05:54.000+09:00</td>\n",
       "      <td>34.15898132324219</td>\n",
       "      <td>134.50284361839294</td>\n",
       "      <td>25.23</td>\n",
       "    </tr>\n",
       "    <tr>\n",
       "      <th>...</th>\n",
       "      <td>...</td>\n",
       "      <td>...</td>\n",
       "      <td>...</td>\n",
       "      <td>...</td>\n",
       "    </tr>\n",
       "    <tr>\n",
       "      <th>5638</th>\n",
       "      <td>2017-05-01T11:09:41.000+09:00</td>\n",
       "      <td>34.15107274055481</td>\n",
       "      <td>134.4305785894394</td>\n",
       "      <td>66.2</td>\n",
       "    </tr>\n",
       "    <tr>\n",
       "      <th>5639</th>\n",
       "      <td>2017-05-01T11:09:42.000+09:00</td>\n",
       "      <td>34.151084661483765</td>\n",
       "      <td>134.4305831193924</td>\n",
       "      <td>66.25</td>\n",
       "    </tr>\n",
       "    <tr>\n",
       "      <th>5640</th>\n",
       "      <td>2017-05-01T11:09:43.000+09:00</td>\n",
       "      <td>34.151098012924194</td>\n",
       "      <td>134.43058788776398</td>\n",
       "      <td>66.29</td>\n",
       "    </tr>\n",
       "    <tr>\n",
       "      <th>5641</th>\n",
       "      <td>2017-05-01T11:09:44.000+09:00</td>\n",
       "      <td>34.151113867759705</td>\n",
       "      <td>134.4305934906006</td>\n",
       "      <td>66.23</td>\n",
       "    </tr>\n",
       "    <tr>\n",
       "      <th>5642</th>\n",
       "      <td>2017-05-01T11:09:45.000+09:00</td>\n",
       "      <td>34.15113091468811</td>\n",
       "      <td>134.43059742450714</td>\n",
       "      <td>66.19</td>\n",
       "    </tr>\n",
       "  </tbody>\n",
       "</table>\n",
       "<p>5643 rows × 4 columns</p>\n",
       "</div>"
      ],
      "text/plain": [
       "                          timestamp            latitude           longitude  \\\n",
       "0     2017-05-01T09:05:50.000+09:00   34.15899896621704  134.50285136699677   \n",
       "1     2017-05-01T09:05:51.000+09:00   34.15899896621704  134.50285136699677   \n",
       "2     2017-05-01T09:05:52.000+09:00   34.15899896621704  134.50285136699677   \n",
       "3     2017-05-01T09:05:53.000+09:00   34.15899181365967  134.50283288955688   \n",
       "4     2017-05-01T09:05:54.000+09:00   34.15898132324219  134.50284361839294   \n",
       "...                             ...                 ...                 ...   \n",
       "5638  2017-05-01T11:09:41.000+09:00   34.15107274055481   134.4305785894394   \n",
       "5639  2017-05-01T11:09:42.000+09:00  34.151084661483765   134.4305831193924   \n",
       "5640  2017-05-01T11:09:43.000+09:00  34.151098012924194  134.43058788776398   \n",
       "5641  2017-05-01T11:09:44.000+09:00  34.151113867759705   134.4305934906006   \n",
       "5642  2017-05-01T11:09:45.000+09:00   34.15113091468811  134.43059742450714   \n",
       "\n",
       "     altitude  \n",
       "0       24.43  \n",
       "1       24.43  \n",
       "2       22.23  \n",
       "3       25.26  \n",
       "4       25.23  \n",
       "...       ...  \n",
       "5638     66.2  \n",
       "5639    66.25  \n",
       "5640    66.29  \n",
       "5641    66.23  \n",
       "5642    66.19  \n",
       "\n",
       "[5643 rows x 4 columns]"
      ]
     },
     "execution_count": 7,
     "metadata": {},
     "output_type": "execute_result"
    }
   ],
   "source": [
    "data_df"
   ]
  },
  {
   "cell_type": "markdown",
   "id": "0cf8cacb",
   "metadata": {},
   "source": [
    "#### theta、muse、amedas、fitbitの統合データの読み込み"
   ]
  },
  {
   "cell_type": "markdown",
   "id": "4e60c516",
   "metadata": {},
   "source": [
    "※あらかじめ本書の手順に従ってtheta、muse、amedas、fitbitなどから取得したデータを統合してひとつのcsvファイルとしてまとめておく。<br>\n",
    "※GitHub(https://github.com/mirandora/ds_book/tree/main/9_1) に公開しているデータはコード動作確認用の統合済みデータとなります。"
   ]
  },
  {
   "cell_type": "code",
   "execution_count": 8,
   "id": "1214b1d1",
   "metadata": {},
   "outputs": [],
   "source": [
    "ohenro_data = pd.read_csv(\"./data/ohenro_data.csv\")"
   ]
  },
  {
   "cell_type": "code",
   "execution_count": 9,
   "id": "042f41b5",
   "metadata": {},
   "outputs": [
    {
     "data": {
      "text/html": [
       "<div>\n",
       "<style scoped>\n",
       "    .dataframe tbody tr th:only-of-type {\n",
       "        vertical-align: middle;\n",
       "    }\n",
       "\n",
       "    .dataframe tbody tr th {\n",
       "        vertical-align: top;\n",
       "    }\n",
       "\n",
       "    .dataframe thead th {\n",
       "        text-align: right;\n",
       "    }\n",
       "</style>\n",
       "<table border=\"1\" class=\"dataframe\">\n",
       "  <thead>\n",
       "    <tr style=\"text-align: right;\">\n",
       "      <th></th>\n",
       "      <th>temple_no</th>\n",
       "      <th>satori</th>\n",
       "      <th>hour</th>\n",
       "      <th>people</th>\n",
       "      <th>max_temp</th>\n",
       "      <th>min_temp</th>\n",
       "      <th>precipitation</th>\n",
       "      <th>wind</th>\n",
       "      <th>kcal</th>\n",
       "      <th>day_total_kcal</th>\n",
       "      <th>trip_total_kcal</th>\n",
       "      <th>km</th>\n",
       "      <th>day_total_km</th>\n",
       "      <th>trip_total_km</th>\n",
       "    </tr>\n",
       "  </thead>\n",
       "  <tbody>\n",
       "    <tr>\n",
       "      <th>0</th>\n",
       "      <td>1</td>\n",
       "      <td>0.847543</td>\n",
       "      <td>8</td>\n",
       "      <td>18</td>\n",
       "      <td>26.8</td>\n",
       "      <td>13.9</td>\n",
       "      <td>0.0</td>\n",
       "      <td>8.3</td>\n",
       "      <td>0</td>\n",
       "      <td>0</td>\n",
       "      <td>0</td>\n",
       "      <td>0.00</td>\n",
       "      <td>0.00</td>\n",
       "      <td>0.00</td>\n",
       "    </tr>\n",
       "    <tr>\n",
       "      <th>1</th>\n",
       "      <td>2</td>\n",
       "      <td>0.878716</td>\n",
       "      <td>9</td>\n",
       "      <td>15</td>\n",
       "      <td>26.8</td>\n",
       "      <td>13.9</td>\n",
       "      <td>0.0</td>\n",
       "      <td>8.3</td>\n",
       "      <td>99</td>\n",
       "      <td>99</td>\n",
       "      <td>99</td>\n",
       "      <td>1.21</td>\n",
       "      <td>1.21</td>\n",
       "      <td>1.21</td>\n",
       "    </tr>\n",
       "    <tr>\n",
       "      <th>2</th>\n",
       "      <td>3</td>\n",
       "      <td>0.576629</td>\n",
       "      <td>10</td>\n",
       "      <td>7</td>\n",
       "      <td>26.8</td>\n",
       "      <td>13.9</td>\n",
       "      <td>0.0</td>\n",
       "      <td>8.3</td>\n",
       "      <td>241</td>\n",
       "      <td>340</td>\n",
       "      <td>340</td>\n",
       "      <td>3.00</td>\n",
       "      <td>4.21</td>\n",
       "      <td>4.21</td>\n",
       "    </tr>\n",
       "    <tr>\n",
       "      <th>3</th>\n",
       "      <td>4</td>\n",
       "      <td>0.549223</td>\n",
       "      <td>11</td>\n",
       "      <td>8</td>\n",
       "      <td>26.8</td>\n",
       "      <td>13.9</td>\n",
       "      <td>0.0</td>\n",
       "      <td>8.3</td>\n",
       "      <td>397</td>\n",
       "      <td>737</td>\n",
       "      <td>737</td>\n",
       "      <td>4.96</td>\n",
       "      <td>9.17</td>\n",
       "      <td>9.17</td>\n",
       "    </tr>\n",
       "    <tr>\n",
       "      <th>4</th>\n",
       "      <td>5</td>\n",
       "      <td>0.864162</td>\n",
       "      <td>11</td>\n",
       "      <td>7</td>\n",
       "      <td>26.8</td>\n",
       "      <td>13.9</td>\n",
       "      <td>0.0</td>\n",
       "      <td>8.3</td>\n",
       "      <td>178</td>\n",
       "      <td>915</td>\n",
       "      <td>915</td>\n",
       "      <td>2.29</td>\n",
       "      <td>11.46</td>\n",
       "      <td>11.46</td>\n",
       "    </tr>\n",
       "    <tr>\n",
       "      <th>...</th>\n",
       "      <td>...</td>\n",
       "      <td>...</td>\n",
       "      <td>...</td>\n",
       "      <td>...</td>\n",
       "      <td>...</td>\n",
       "      <td>...</td>\n",
       "      <td>...</td>\n",
       "      <td>...</td>\n",
       "      <td>...</td>\n",
       "      <td>...</td>\n",
       "      <td>...</td>\n",
       "      <td>...</td>\n",
       "      <td>...</td>\n",
       "      <td>...</td>\n",
       "    </tr>\n",
       "    <tr>\n",
       "      <th>59</th>\n",
       "      <td>60</td>\n",
       "      <td>0.858205</td>\n",
       "      <td>13</td>\n",
       "      <td>3</td>\n",
       "      <td>11.6</td>\n",
       "      <td>3.9</td>\n",
       "      <td>0.0</td>\n",
       "      <td>5.6</td>\n",
       "      <td>3126</td>\n",
       "      <td>2102</td>\n",
       "      <td>7706</td>\n",
       "      <td>42.65</td>\n",
       "      <td>28.64</td>\n",
       "      <td>111.52</td>\n",
       "    </tr>\n",
       "    <tr>\n",
       "      <th>60</th>\n",
       "      <td>61</td>\n",
       "      <td>0.870218</td>\n",
       "      <td>9</td>\n",
       "      <td>29</td>\n",
       "      <td>9.0</td>\n",
       "      <td>4.7</td>\n",
       "      <td>0.0</td>\n",
       "      <td>2.8</td>\n",
       "      <td>1719</td>\n",
       "      <td>623</td>\n",
       "      <td>9425</td>\n",
       "      <td>26.60</td>\n",
       "      <td>8.57</td>\n",
       "      <td>138.12</td>\n",
       "    </tr>\n",
       "    <tr>\n",
       "      <th>61</th>\n",
       "      <td>62</td>\n",
       "      <td>0.846740</td>\n",
       "      <td>10</td>\n",
       "      <td>1</td>\n",
       "      <td>9.0</td>\n",
       "      <td>4.7</td>\n",
       "      <td>0.0</td>\n",
       "      <td>2.8</td>\n",
       "      <td>159</td>\n",
       "      <td>782</td>\n",
       "      <td>9584</td>\n",
       "      <td>2.67</td>\n",
       "      <td>11.24</td>\n",
       "      <td>140.79</td>\n",
       "    </tr>\n",
       "    <tr>\n",
       "      <th>62</th>\n",
       "      <td>63</td>\n",
       "      <td>0.913370</td>\n",
       "      <td>10</td>\n",
       "      <td>2</td>\n",
       "      <td>9.0</td>\n",
       "      <td>4.7</td>\n",
       "      <td>0.0</td>\n",
       "      <td>2.8</td>\n",
       "      <td>194</td>\n",
       "      <td>976</td>\n",
       "      <td>9778</td>\n",
       "      <td>3.05</td>\n",
       "      <td>14.29</td>\n",
       "      <td>143.84</td>\n",
       "    </tr>\n",
       "    <tr>\n",
       "      <th>63</th>\n",
       "      <td>64</td>\n",
       "      <td>0.851525</td>\n",
       "      <td>12</td>\n",
       "      <td>4</td>\n",
       "      <td>9.0</td>\n",
       "      <td>4.7</td>\n",
       "      <td>0.0</td>\n",
       "      <td>2.8</td>\n",
       "      <td>376</td>\n",
       "      <td>1352</td>\n",
       "      <td>10154</td>\n",
       "      <td>6.16</td>\n",
       "      <td>20.45</td>\n",
       "      <td>150.00</td>\n",
       "    </tr>\n",
       "  </tbody>\n",
       "</table>\n",
       "<p>64 rows × 14 columns</p>\n",
       "</div>"
      ],
      "text/plain": [
       "    temple_no    satori  hour  people  max_temp  min_temp  precipitation  \\\n",
       "0           1  0.847543     8      18      26.8      13.9            0.0   \n",
       "1           2  0.878716     9      15      26.8      13.9            0.0   \n",
       "2           3  0.576629    10       7      26.8      13.9            0.0   \n",
       "3           4  0.549223    11       8      26.8      13.9            0.0   \n",
       "4           5  0.864162    11       7      26.8      13.9            0.0   \n",
       "..        ...       ...   ...     ...       ...       ...            ...   \n",
       "59         60  0.858205    13       3      11.6       3.9            0.0   \n",
       "60         61  0.870218     9      29       9.0       4.7            0.0   \n",
       "61         62  0.846740    10       1       9.0       4.7            0.0   \n",
       "62         63  0.913370    10       2       9.0       4.7            0.0   \n",
       "63         64  0.851525    12       4       9.0       4.7            0.0   \n",
       "\n",
       "    wind  kcal  day_total_kcal  trip_total_kcal     km  day_total_km  \\\n",
       "0    8.3     0               0                0   0.00          0.00   \n",
       "1    8.3    99              99               99   1.21          1.21   \n",
       "2    8.3   241             340              340   3.00          4.21   \n",
       "3    8.3   397             737              737   4.96          9.17   \n",
       "4    8.3   178             915              915   2.29         11.46   \n",
       "..   ...   ...             ...              ...    ...           ...   \n",
       "59   5.6  3126            2102             7706  42.65         28.64   \n",
       "60   2.8  1719             623             9425  26.60          8.57   \n",
       "61   2.8   159             782             9584   2.67         11.24   \n",
       "62   2.8   194             976             9778   3.05         14.29   \n",
       "63   2.8   376            1352            10154   6.16         20.45   \n",
       "\n",
       "    trip_total_km  \n",
       "0            0.00  \n",
       "1            1.21  \n",
       "2            4.21  \n",
       "3            9.17  \n",
       "4           11.46  \n",
       "..            ...  \n",
       "59         111.52  \n",
       "60         138.12  \n",
       "61         140.79  \n",
       "62         143.84  \n",
       "63         150.00  \n",
       "\n",
       "[64 rows x 14 columns]"
      ]
     },
     "execution_count": 9,
     "metadata": {},
     "output_type": "execute_result"
    }
   ],
   "source": [
    "ohenro_data"
   ]
  },
  {
   "cell_type": "markdown",
   "id": "306798b4",
   "metadata": {},
   "source": [
    "### モデリング"
   ]
  },
  {
   "cell_type": "code",
   "execution_count": null,
   "id": "f341ae27",
   "metadata": {},
   "outputs": [],
   "source": [
    "import lightgbm as lgb"
   ]
  },
  {
   "cell_type": "markdown",
   "id": "505ef975",
   "metadata": {},
   "source": [
    "※データ時点数が非常に少ない点に留意。（そのため本書ではデータのプロットによる考察が主となる。）<br>\n",
    "※本書と実行環境、ハイパーパラメータが異なるためモデルの予測結果および重要度が異なる点に留意。"
   ]
  },
  {
   "cell_type": "code",
   "execution_count": 10,
   "id": "421172e3",
   "metadata": {},
   "outputs": [],
   "source": [
    "train_X = ohenro_data.drop([\"temple_no\",\"satori\"],axis=1)\n",
    "train_Y = ohenro_data[[\"satori\"]]"
   ]
  },
  {
   "cell_type": "code",
   "execution_count": 11,
   "id": "3ad7cc24",
   "metadata": {},
   "outputs": [],
   "source": [
    "X_train = train_X[0:49]\n",
    "X_valid = train_X[50:]\n",
    "y_train = train_Y[0:49]\n",
    "y_valid = train_Y[50:]"
   ]
  },
  {
   "cell_type": "code",
   "execution_count": 12,
   "id": "3c238ebe",
   "metadata": {},
   "outputs": [],
   "source": [
    "lgb_train = lgb.Dataset(X_train, y_train)\n",
    "lgb_eval = lgb.Dataset(X_valid, y_valid, reference=lgb_train)"
   ]
  },
  {
   "cell_type": "code",
   "execution_count": 13,
   "id": "691b5d2c",
   "metadata": {},
   "outputs": [],
   "source": [
    "lgbm_params = {\n",
    "    \"objective\":\"regression\",\n",
    "    \"random_seed\":1234,\n",
    "    \"learning_rate\":0.03,    \n",
    "    \"verbose\":-1,    \n",
    "    \"num_leaves\": 50,\n",
    "    \"min_data_in_leaf\": 6,\n",
    "    \"min_sum_hessian_in_leaf\": 7        \n",
    "}"
   ]
  },
  {
   "cell_type": "code",
   "execution_count": 14,
   "id": "a7a44dee",
   "metadata": {},
   "outputs": [
    {
     "name": "stdout",
     "output_type": "stream",
     "text": [
      "Training until validation scores don't improve for 10 rounds\n",
      "[5]\tvalid_0's l2: 0.00513094\n",
      "[10]\tvalid_0's l2: 0.00510047\n",
      "[15]\tvalid_0's l2: 0.00500255\n",
      "[20]\tvalid_0's l2: 0.00483104\n",
      "[25]\tvalid_0's l2: 0.00465912\n",
      "[30]\tvalid_0's l2: 0.00463595\n",
      "[35]\tvalid_0's l2: 0.00444921\n",
      "[40]\tvalid_0's l2: 0.00450617\n",
      "[45]\tvalid_0's l2: 0.00466458\n",
      "Early stopping, best iteration is:\n",
      "[36]\tvalid_0's l2: 0.00442497\n"
     ]
    }
   ],
   "source": [
    "model_lgb = lgb.train(lgbm_params,\n",
    "    lgb_train,\n",
    "    valid_sets=lgb_eval,\n",
    "    num_boost_round=100,\n",
    "    early_stopping_rounds=10,\n",
    "    verbose_eval=5\n",
    ")"
   ]
  },
  {
   "cell_type": "code",
   "execution_count": 15,
   "id": "e10cabb3",
   "metadata": {},
   "outputs": [],
   "source": [
    "y_pred = model_lgb.predict(train_X, num_iteration=model_lgb.best_iteration)"
   ]
  },
  {
   "cell_type": "code",
   "execution_count": 16,
   "id": "09d97019",
   "metadata": {},
   "outputs": [],
   "source": [
    "actual_pred_df = train_Y.copy()\n",
    "actual_pred_df[\"pred\"] = y_pred\n",
    "actual_pred_df.columns = [\"actual\",\"pred\"]"
   ]
  },
  {
   "cell_type": "code",
   "execution_count": 17,
   "id": "c63eef53",
   "metadata": {},
   "outputs": [
    {
     "data": {
      "text/plain": [
       "<AxesSubplot:>"
      ]
     },
     "execution_count": 17,
     "metadata": {},
     "output_type": "execute_result"
    },
    {
     "data": {
      "image/png": "[encoded data removed]",
      "text/plain": [
       "<Figure size 432x288 with 1 Axes>"
      ]
     },
     "metadata": {},
     "output_type": "display_data"
    }
   ],
   "source": [
    "actual_pred_df.plot()"
   ]
  },
  {
   "cell_type": "code",
   "execution_count": 18,
   "id": "96405e8d",
   "metadata": {},
   "outputs": [
    {
     "data": {
      "text/plain": [
       "<AxesSubplot:>"
      ]
     },
     "execution_count": 18,
     "metadata": {},
     "output_type": "execute_result"
    },
    {
     "data": {
      "image/png": "[encoded data removed]",
      "text/plain": [
       "<Figure size 432x288 with 1 Axes>"
      ]
     },
     "metadata": {},
     "output_type": "display_data"
    }
   ],
   "source": [
    "importance = pd.DataFrame(model_lgb.feature_importance(), index=X_train.columns, columns=[\"importance\"]).sort_values(by=\"importance\",ascending =True)\n",
    "importance.plot.barh()"
   ]
  },
  {
   "cell_type": "markdown",
   "id": "fdcf84c2",
   "metadata": {},
   "source": [
    "### 予測結果と各種データの可視化"
   ]
  },
  {
   "cell_type": "code",
   "execution_count": 19,
   "id": "3e4df2c1",
   "metadata": {},
   "outputs": [],
   "source": [
    "temple_num = pd.read_csv(\"./data/temple_num.csv\",encoding=\"SHIFT-JIS\")\n",
    "temple_num[\"holiday\"] = temple_num[\"holiday\"].astype(\"int\")\n",
    "temple_num[\"male\"] = temple_num[\"male\"].astype(\"int\")\n",
    "temple_num[\"female\"] = temple_num[\"female\"].astype(\"int\")"
   ]
  },
  {
   "cell_type": "code",
   "execution_count": 20,
   "id": "5398f166",
   "metadata": {},
   "outputs": [
    {
     "data": {
      "text/plain": [
       "<AxesSubplot:>"
      ]
     },
     "execution_count": 20,
     "metadata": {},
     "output_type": "execute_result"
    },
    {
     "data": {
      "image/png": "[encoded data removed]",
      "text/plain": [
       "<Figure size 864x216 with 2 Axes>"
      ]
     },
     "metadata": {},
     "output_type": "display_data"
    }
   ],
   "source": [
    "ax = temple_num[[\"No\",\"female\",\"male\"]].plot.bar(x=\"No\",stacked=True, figsize=(12,3))\n",
    "ohenro_data[[\"satori\"]].plot(secondary_y=[\"satori\"],ax=ax)"
   ]
  },
  {
   "cell_type": "code",
   "execution_count": 21,
   "id": "95c1fa17",
   "metadata": {},
   "outputs": [
    {
     "data": {
      "text/plain": [
       "<AxesSubplot:>"
      ]
     },
     "execution_count": 21,
     "metadata": {},
     "output_type": "execute_result"
    },
    {
     "data": {
      "image/png": "[encoded data removed]",
      "text/plain": [
       "<Figure size 864x216 with 2 Axes>"
      ]
     },
     "metadata": {},
     "output_type": "display_data"
    }
   ],
   "source": [
    "ax = temple_num[[\"No\",\"female\",\"male\"]].plot.bar(x=\"No\",stacked=True, figsize=(12,3))\n",
    "ohenro_data[[\"precipitation\",\"wind\"]].plot(secondary_y=[\"precipitation\",\"wind\"],ax=ax)"
   ]
  },
  {
   "cell_type": "code",
   "execution_count": 22,
   "id": "1e7bf0be",
   "metadata": {},
   "outputs": [
    {
     "data": {
      "text/plain": [
       "<AxesSubplot:xlabel='hour'>"
      ]
     },
     "execution_count": 22,
     "metadata": {},
     "output_type": "execute_result"
    },
    {
     "data": {
      "image/png": "[encoded data removed]",
      "text/plain": [
       "<Figure size 432x288 with 1 Axes>"
      ]
     },
     "metadata": {},
     "output_type": "display_data"
    }
   ],
   "source": [
    "pd.read_csv(\"./data/hour_kcal.csv\").plot.bar(x=\"hour\")"
   ]
  },
  {
   "cell_type": "code",
   "execution_count": 23,
   "id": "b95c18ce",
   "metadata": {},
   "outputs": [
    {
     "data": {
      "text/plain": [
       "<AxesSubplot:xlabel='kcal', ylabel='satori'>"
      ]
     },
     "execution_count": 23,
     "metadata": {},
     "output_type": "execute_result"
    },
    {
     "data": {
      "image/png": "[encoded data removed]",
      "text/plain": [
       "<Figure size 432x288 with 1 Axes>"
      ]
     },
     "metadata": {},
     "output_type": "display_data"
    }
   ],
   "source": [
    "ohenro_data[[\"satori\",\"kcal\"]].plot.scatter(x=\"kcal\",y=\"satori\")"
   ]
  },
  {
   "cell_type": "code",
   "execution_count": null,
   "id": "eb7c93bf",
   "metadata": {},
   "outputs": [],
   "source": []
  }
 ],
 "metadata": {
  "kernelspec": {
   "display_name": "Python 3",
   "language": "python",
   "name": "python3"
  },
  "language_info": {
   "codemirror_mode": {
    "name": "ipython",
    "version": 3
   },
   "file_extension": ".py",
   "mimetype": "text/x-python",
   "name": "python",
   "nbconvert_exporter": "python",
   "pygments_lexer": "ipython3",
   "version": "3.9.2"
  }
 },
 "nbformat": 4,
 "nbformat_minor": 5
}
